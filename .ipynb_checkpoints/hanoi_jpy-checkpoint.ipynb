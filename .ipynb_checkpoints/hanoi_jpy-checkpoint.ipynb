{
 "cells": [
  {
   "cell_type": "markdown",
   "metadata": {},
   "source": [
    "The Towers of Hanoi is a classic case of the implementation of recursive algorithms."
   ]
  },
  {
   "cell_type": "markdown",
   "metadata": {},
   "source": [
    "It involves moving discs between three towers, say A, B and C, with only these rules;\n",
    "1. Only one disc can be moved at a time.\n",
    "2. The topmost disc of any tower is the only one available for moving.\n",
    "3. A wider disc can never be on top a narrower disc."
   ]
  },
  {
   "cell_type": "markdown",
   "metadata": {},
   "source": [
    "Here's an implementation with Python, outlined."
   ]
  },
  {
   "cell_type": "code",
   "execution_count": 1,
   "metadata": {},
   "outputs": [],
   "source": [
    "# Modelling a stack\n",
    "\n",
    "from typing import TypeVar, Generic, List\n",
    "T = TypeVar('T') "
   ]
  },
  {
   "cell_type": "markdown",
   "metadata": {},
   "source": [
    "The import of Generic enables the class to be generic over a particular type\n",
    "The arbitrary type T defined can be of any type"
   ]
  },
  {
   "cell_type": "code",
   "execution_count": 2,
   "metadata": {},
   "outputs": [],
   "source": [
    "class Stack(Generic[T]):\n",
    "    def __init__(self) -> None:\n",
    "        self._container: List[T] = []\n",
    "    def push(self, item: T) -> None:\n",
    "        self._container.append(item)\n",
    "    def pop(self) -> T:\n",
    "        return self._container.pop()\n",
    "    def __repr__(self) -> str:\n",
    "        return repr(self._container)"
   ]
  },
  {
   "cell_type": "markdown",
   "metadata": {},
   "source": [
    "The class uses __repr__() so the contents of the towers are easily explored."
   ]
  },
  {
   "cell_type": "code",
   "execution_count": 3,
   "metadata": {},
   "outputs": [],
   "source": [
    "# Defining the towers\n",
    "\n",
    "num_discs: int = 10     # discs\n",
    "tower_a: Stack[int] = Stack(); tower_b: Stack[int] = Stack(); tower_c: Stack[int] = Stack()\n",
    "for _ in range(1, num_discs + 1):\n",
    "    tower_a.push(_)"
   ]
  },
  {
   "cell_type": "code",
   "execution_count": 4,
   "metadata": {},
   "outputs": [],
   "source": [
    "# Moving the discs between towers\n",
    "\n",
    "def hanoi(begin: Stack[int], end: Stack[int], temp: Stack[int], n: int) -> None:\n",
    "    if n == 1:\n",
    "        end.push(begin.pop())\n",
    "    else:\n",
    "        hanoi(begin, temp, end, n-1)\n",
    "        hanoi(begin, end, temp, 1)\n",
    "        hanoi(temp, end, begin, n-1)"
   ]
  },
  {
   "cell_type": "code",
   "execution_count": 5,
   "metadata": {},
   "outputs": [
    {
     "name": "stdout",
     "output_type": "stream",
     "text": [
      "[]\n",
      "[]\n",
      "[1, 2, 3, 4, 5, 6, 7, 8, 9, 10]\n"
     ]
    }
   ],
   "source": [
    "# Towers move\n",
    "\n",
    "if __name__ == \"__main__\":\n",
    "    hanoi(tower_a, tower_c, tower_b, num_discs)\n",
    "    print(tower_a); print(tower_b); print(tower_c)"
   ]
  }
 ],
 "metadata": {
  "kernelspec": {
   "display_name": "Python 3 (ipykernel)",
   "language": "python",
   "name": "python3"
  },
  "language_info": {
   "codemirror_mode": {
    "name": "ipython",
    "version": 3
   },
   "file_extension": ".py",
   "mimetype": "text/x-python",
   "name": "python",
   "nbconvert_exporter": "python",
   "pygments_lexer": "ipython3",
   "version": "3.7.9"
  }
 },
 "nbformat": 4,
 "nbformat_minor": 2
}
