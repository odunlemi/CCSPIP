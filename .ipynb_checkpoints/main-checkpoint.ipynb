{
 "cells": [
  {
   "cell_type": "markdown",
   "metadata": {},
   "source": [
    "Practice off Bradfield's Practical Algorithm and Data Structures.\n"
   ]
  },
  {
   "cell_type": "markdown",
   "metadata": {},
   "source": [
    "\n",
    "What makes one computer program better than another?\n",
    "\n",
    "Two factors computer scientists model are how much time it takes a program to run and how much space it takes up. This is called time and space efficiency."
   ]
  },
  {
   "cell_type": "markdown",
   "metadata": {},
   "source": [
    "There's often a need to trade these off against other concerns; like Algo A may be faster than algo B but takes up more memory and less elegant than algo C, where elegance is considered a priority. So, the correct answer is \"it depends\"."
   ]
  },
  {
   "cell_type": "markdown",
   "metadata": {},
   "source": [
    "Another aspect, even with time and space efficiency considered, is the context in which the program runs. There is often a relationship between a program's input(s)  and its behaviour - with time run and space usage.\n",
    "\n",
    "Beyond this, the exact time and space used by a program depends on a host of other factors like;\n",
    "1. Your computer's architecture\n",
    "2. How long it takes to run a program\n",
    "3. How many cores are in use\n",
    "4. How the OS chooses to operate and schedule processes, etc."
   ]
  },
  {
   "cell_type": "markdown",
   "metadata": {},
   "source": [
    "None of these exactly address an algorithm's efficiency, we want to be able to ask how well a program handles space usage and how fast it runs regardless, and this is the crux of algorithm analysis.\n",
    "\n",
    "Algorithm analysis is a way to compare the space and time efficiency of programs with respective to their possible inputs, but irrespective of other contexts."
   ]
  },
  {
   "cell_type": "markdown",
   "metadata": {},
   "source": [
    "Writing an algorithm to determine the sum of the first n numbers."
   ]
  },
  {
   "cell_type": "code",
   "execution_count": 4,
   "metadata": {},
   "outputs": [],
   "source": [
    "def sum_of_n(n):\n",
    "    total = 0\n",
    "    for _ in range(n + 1):\n",
    "        total += _\n",
    "    print(total)"
   ]
  },
  {
   "cell_type": "code",
   "execution_count": 5,
   "metadata": {},
   "outputs": [
    {
     "data": {
      "text/plain": [
       "(500000500000, 0.06736302375793457)"
      ]
     },
     "execution_count": 5,
     "metadata": {},
     "output_type": "execute_result"
    }
   ],
   "source": [
    "# Adding some profiling code\n",
    "\n",
    "import time\n",
    "\n",
    "def sum_of_n(n):\n",
    "    start = time.time()\n",
    "\n",
    "    total = 0\n",
    "    for _ in range(n + 1):\n",
    "        total += _\n",
    "\n",
    "    end = time.time()\n",
    "\n",
    "    return total, end - start\n",
    "\n",
    "sum_of_n(1000000)"
   ]
  },
  {
   "cell_type": "markdown",
   "metadata": {},
   "source": [
    "Ran with a value of n = 1,000,000, took 0.3s. What happens running five more times? "
   ]
  },
  {
   "cell_type": "code",
   "execution_count": 6,
   "metadata": {},
   "outputs": [
    {
     "name": "stdout",
     "output_type": "stream",
     "text": [
      "sum_of_n(1000000) =    500000500000 (0.0870085seconds)\n",
      "sum_of_n(1000000) =    500000500000 (0.0640175seconds)\n",
      "sum_of_n(1000000) =    500000500000 (0.0539992seconds)\n",
      "sum_of_n(1000000) =    500000500000 (0.0535738seconds)\n",
      "sum_of_n(1000000) =    500000500000 (0.0540023seconds)\n"
     ]
    }
   ],
   "source": [
    "output_template = '{}({}) = {:15d} ({:8.7f}seconds)'\n",
    "for _ in range(5):\n",
    "    print(output_template.format('sum_of_n', 1000000, *sum_of_n(1000000)))"
   ]
  },
  {
   "cell_type": "markdown",
   "metadata": {},
   "source": [
    "With increasingly different values of n.."
   ]
  },
  {
   "cell_type": "code",
   "execution_count": 11,
   "metadata": {},
   "outputs": [
    {
     "name": "stdout",
     "output_type": "stream",
     "text": [
      "sum_of_n(1000000) =    500000500000 (0.0872350seconds)\n",
      "sum_of_n(2000000) =   2000001000000 (0.1391845seconds)\n",
      "sum_of_n(3000000) =   4500001500000 (0.1905770seconds)\n",
      "sum_of_n(4000000) =   8000002000000 (0.2456470seconds)\n",
      "sum_of_n(5000000) =  12500002500000 (0.2981176seconds)\n",
      "sum_of_n(6000000) =  18000003000000 (0.3387041seconds)\n",
      "sum_of_n(7000000) =  24500003500000 (0.3980687seconds)\n",
      "sum_of_n(8000000) =  32000004000000 (0.4508789seconds)\n",
      "sum_of_n(9000000) =  40500004500000 (0.5518301seconds)\n"
     ]
    }
   ],
   "source": [
    "for _ in range(1, 10):\n",
    "    print(output_template.format('sum_of_n', _ * 1000000, *sum_of_n(_ * 1000000)))"
   ]
  },
  {
   "cell_type": "markdown",
   "metadata": {},
   "source": [
    "Taking 17.2s, with bigger values of n shows sum_of_n to not be the most efficient solution.\n",
    "\n",
    "Using a simpler formula, the sum of first n positive integeers, n(n + 1)/2"
   ]
  },
  {
   "cell_type": "code",
   "execution_count": 12,
   "metadata": {},
   "outputs": [
    {
     "data": {
      "text/plain": [
       "(121176641645007783850000000, 0.0)"
      ]
     },
     "execution_count": 12,
     "metadata": {},
     "output_type": "execute_result"
    }
   ],
   "source": [
    "def arithmetic_sum(n):\n",
    "    start = time.time()\n",
    "    total = n * (n + 1)//2\n",
    "    end = time.time()\n",
    "    return total, end - start\n",
    "\n",
    "arithmetic_sum(15567700000000)"
   ]
  },
  {
   "cell_type": "markdown",
   "metadata": {},
   "source": [
    "With a range of values from 1 to 10.."
   ]
  },
  {
   "cell_type": "code",
   "execution_count": 16,
   "metadata": {},
   "outputs": [
    {
     "name": "stdout",
     "output_type": "stream",
     "text": [
      "arithmetic_sum(1000000) =    500000500000 (0.0000000seconds)\n",
      "arithmetic_sum(2000000) =   2000001000000 (0.0000000seconds)\n",
      "arithmetic_sum(3000000) =   4500001500000 (0.0000000seconds)\n",
      "arithmetic_sum(4000000) =   8000002000000 (0.0000000seconds)\n",
      "arithmetic_sum(5000000) =  12500002500000 (0.0000000seconds)\n",
      "arithmetic_sum(6000000) =  18000003000000 (0.0000000seconds)\n",
      "arithmetic_sum(7000000) =  24500003500000 (0.0000000seconds)\n",
      "arithmetic_sum(8000000) =  32000004000000 (0.0000000seconds)\n",
      "arithmetic_sum(9000000) =  40500004500000 (0.0000000seconds)\n"
     ]
    }
   ],
   "source": [
    "for _ in range(1,10):\n",
    "    print(output_template.format('arithmetic_sum', _ * 1000000, *arithmetic_sum(_ * 1000000)))"
   ]
  },
  {
   "cell_type": "markdown",
   "metadata": {},
   "source": [
    "Looking at the outputs of arithmetic_sum, notice that the execution time appears to be largely indepedent of the size of te input."
   ]
  },
  {
   "cell_type": "markdown",
   "metadata": {},
   "source": [
    "The functions can be described thus, sum_of_n as \"linear\" or 0(n) and arithmetic_sum() as \"constant\" or 0(1).\n",
    "\n",
    "Irrespective of the exact times that these functions take to execute, there's a general trend, the time for sum_of_n grows in proportion to n, and the time for arithmetic_sum remains constant.\n",
    "\n",
    "All factors being equal, arithmetic_sum is the better algorithm, for this reason."
   ]
  },
  {
   "cell_type": "markdown",
   "metadata": {},
   "source": [
    "Big O Notation"
   ]
  },
  {
   "cell_type": "markdown",
   "metadata": {},
   "source": [
    "An algorithm is little more than a series of steps required to perform some task. If each step is trated as a basic unit of computation, then an algorithm's execution time can be expressed as the number of steps required to solve the problem.   \n",
    "\n",
    "This abstraction's exactly what is needed: it characterizes an algorithm's efficiency in terms of execution time while remaining independent of any particular program or computer."
   ]
  },
  {
   "cell_type": "markdown",
   "metadata": {},
   "source": [
    "Taking a closer look at the two previous summation algorithms;"
   ]
  },
  {
   "cell_type": "markdown",
   "metadata": {},
   "source": [
    "The first, (sum_of_n), is doing more work than the second, (arithmetic_sum): some programs steps are being repeated, and the program takes even longer if the value of n is increased.\n",
    "\n",
    "But more precisely, the most expensive unit of computation in sum_of_n is variable assignment: there's an initial assignment statement (total = 0) that is performed only once, followed by a loop that executes the loop body (total += _) n times.\n",
    "\n",
    "We can denote this more succintly with function T, where T(n) = 1 + n.\n",
    "\n",
    "The param n is oftem referred to as the \"size of the problem\", so T(n) reads as the time it takes to solve a problem of size n, namely 1 + n steps."
   ]
  },
  {
   "cell_type": "markdown",
   "metadata": {},
   "source": [
    "For the summation functions, it makes sense to use the number of terms being summed to denote the size of the problem. The sum of the firtst 100K integers > the sum of the first 10K integers, that is, it is a bigger instance of the summation problem.\n",
    "\n",
    "To exactly prove that the algorithm's execution time depends on the size of the problem, we're going to stop cataloguing the exact number of operations (steps) an algorithm performs and determine the dominant part of the T(n) [time] function. We can do this because, as the problem gets larger, some portion of T(n) tends to overpower the rest; it's this dominant portion that's most helpful for algorithm comparisons. "
   ]
  },
  {
   "cell_type": "markdown",
   "metadata": {},
   "source": [
    "The \"order of magnitude\" function describes the part of T(n) that icreases fastest as the value of n increases. Call it big O. Written as O(f(n)) where f(n) is the dominant part of the original T(n). This is called \"Big O notation\" and provides a useful approx. for the actual number of steps in a computation."
   ]
  },
  {
   "cell_type": "markdown",
   "metadata": {},
   "source": [
    "So, for (sum_of_n) below, as n gets larger, the constant 1 will become less significant to the final result. If we're simply looking for an approx. of T(n), then we can drop the 1 and say that its running time is 0(n).\n",
    "\n",
    "To be clear, 1 is important to T(n), and can only be safely ignored if we're looking for an approx. of T(n)."
   ]
  },
  {
   "cell_type": "markdown",
   "metadata": {},
   "source": [
    "Given the T(n) = 5n**2 + 27n + 1005\n",
    "\n",
    "o(n) = n**2; for an approx. of T(n)"
   ]
  },
  {
   "cell_type": "markdown",
   "metadata": {},
   "source": [
    "Although we don't see this in the summation example, sometimes the performance of an algorithm depends on the *exact* data values rather than the its size. For these kinds of algorithms, their performance is characterized as worst case, best case, or average case "
   ]
  },
  {
   "cell_type": "code",
   "execution_count": 6,
   "metadata": {},
   "outputs": [
    {
     "name": "stdout",
     "output_type": "stream",
     "text": [
      "55\n"
     ]
    }
   ],
   "source": [
    "def sum_of_n(n):\n",
    "    total = 0\n",
    "    for _ in range(n + 1):\n",
    "        total += _\n",
    "    print(total)\n",
    "\n",
    "sum_of_n(10)"
   ]
  },
  {
   "cell_type": "code",
   "execution_count": 4,
   "metadata": {},
   "outputs": [
    {
     "data": {
      "text/plain": [
       "True"
      ]
     },
     "execution_count": 4,
     "metadata": {},
     "output_type": "execute_result"
    }
   ],
   "source": [
    "def anagram_checking_off(string1, string2):\n",
    "    if len(string1) != len(string2):\n",
    "        return False\n",
    "    \n",
    "    to_check_off =list(string2)\n",
    "\n",
    "    for char in string1:\n",
    "        for i, other_char in enumerate(to_check_off):\n",
    "            if char == other_char:\n",
    "                to_check_off[i] = None\n",
    "                break\n",
    "        else:\n",
    "            return False\n",
    "    return True\n",
    "\n",
    "anagram_checking_off(\"esther\", \"sthere\")"
   ]
  },
  {
   "cell_type": "markdown",
   "metadata": {},
   "source": [
    "Solution 2: Sort and compare"
   ]
  },
  {
   "cell_type": "code",
   "execution_count": 3,
   "metadata": {},
   "outputs": [
    {
     "data": {
      "text/plain": [
       "True"
      ]
     },
     "execution_count": 3,
     "metadata": {},
     "output_type": "execute_result"
    }
   ],
   "source": [
    "try:\n",
    "    from itertools import zip_longest       # import as\n",
    "except:\n",
    "    from itertools import izip_longest as zip_longest\n",
    "\n",
    "def anagram_sort_compare(s1, s2):\n",
    "    for a, b in zip_longest(sorted(s1), sorted(s1)):\n",
    "        if a != b:\n",
    "            return False\n",
    "    return True\n",
    "\n",
    "anagram_sort_compare(\"herd\", \"rehd\")"
   ]
  },
  {
   "cell_type": "code",
   "execution_count": 17,
   "metadata": {},
   "outputs": [
    {
     "name": "stdout",
     "output_type": "stream",
     "text": [
      "enter a jaden quote\n"
     ]
    },
    {
     "data": {
      "text/plain": [
       "\"They're Not Even Real\""
      ]
     },
     "execution_count": 17,
     "metadata": {},
     "output_type": "execute_result"
    }
   ],
   "source": [
    "import string\n",
    "\n",
    "def to_jaden_case():\n",
    "    not_jaden_cased = input()\n",
    "    jaden_cased = string.capwords(not_jaden_cased)\n",
    "    return jaden_cased\n",
    "\n",
    "print('enter a jaden quote')\n",
    "to_jaden_case()"
   ]
  },
  {
   "cell_type": "code",
   "execution_count": 18,
   "metadata": {},
   "outputs": [
    {
     "name": "stdout",
     "output_type": "stream",
     "text": [
      "enter a jaden quote\n"
     ]
    },
    {
     "data": {
      "text/plain": [
       "\"How Can Mirrors Be Real If Our Eyes Aren't Real\""
      ]
     },
     "execution_count": 18,
     "metadata": {},
     "output_type": "execute_result"
    }
   ],
   "source": [
    "import string\n",
    "\n",
    "def to_jaden_case():\n",
    "    quote = \"How can mirrors be real if our eyes aren't real\"\n",
    "    jaden_cased = string.capwords(quote)\n",
    "    return jaden_cased\n",
    "\n",
    "print('enter a jaden quote')\n",
    "to_jaden_case()"
   ]
  },
  {
   "cell_type": "markdown",
   "metadata": {},
   "source": [
    "Solution 5: Count and compare "
   ]
  },
  {
   "cell_type": "code",
   "execution_count": 3,
   "metadata": {},
   "outputs": [
    {
     "data": {
      "text/plain": [
       "True"
      ]
     },
     "execution_count": 3,
     "metadata": {},
     "output_type": "execute_result"
    }
   ],
   "source": [
    "def anagram_count_compare(s1, s2):\n",
    "    c1 = [0] * 26\n",
    "    c2 = [0] * 26\n",
    "\n",
    "    for char in s1:\n",
    "        pos = ord(char) - ord(\"a\")\n",
    "        c1[pos] += 1\n",
    "\n",
    "    for char in s2:\n",
    "        pos = ord(char) - ord(\"a\")\n",
    "        c2[pos] += 1\n",
    "\n",
    "    for a, b in zip(c1, c2):\n",
    "        if a != b:\n",
    "            return False\n",
    "    return True\n",
    "\n",
    "anagram_count_compare(\"free\", \"reef\")"
   ]
  },
  {
   "cell_type": "code",
   "execution_count": 4,
   "metadata": {},
   "outputs": [
    {
     "data": {
      "text/plain": [
       "True"
      ]
     },
     "execution_count": 4,
     "metadata": {},
     "output_type": "execute_result"
    }
   ],
   "source": [
    "from collections import Counter\n",
    "\n",
    "def anagram_with_counter(s1, s2):\n",
    "    return Counter(s1) == Counter(s2)\n",
    "\n",
    "anagram_with_counter(\"stable\", \"tables\")"
   ]
  },
  {
   "cell_type": "markdown",
   "metadata": {},
   "source": [
    "On many occasions, you'll have to decide between space and time. When given an algorithm, it's up to you as a software engineer to determine the best use of resources to solve a given problem."
   ]
  },
  {
   "cell_type": "code",
   "execution_count": 32,
   "metadata": {},
   "outputs": [
    {
     "data": {
      "application/javascript": [
       "alert(\"js!\")"
      ],
      "text/plain": [
       "<IPython.core.display.Javascript object>"
      ]
     },
     "metadata": {},
     "output_type": "display_data"
    }
   ],
   "source": [
    "from IPython.display import Javascript\n",
    "\n",
    "simpjs = Javascript('alert(\"js!\")')\n",
    "display(simpjs)"
   ]
  }
 ],
 "metadata": {
  "kernelspec": {
   "display_name": "Python 3 (ipykernel)",
   "language": "python",
   "name": "python3"
  },
  "language_info": {
   "codemirror_mode": {
    "name": "ipython",
    "version": 3
   },
   "file_extension": ".py",
   "mimetype": "text/x-python",
   "name": "python",
   "nbconvert_exporter": "python",
   "pygments_lexer": "ipython3",
   "version": "3.7.9"
  }
 },
 "nbformat": 4,
 "nbformat_minor": 2
}
