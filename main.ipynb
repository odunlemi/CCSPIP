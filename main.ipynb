{
 "cells": [
  {
   "cell_type": "code",
   "execution_count": 4,
   "metadata": {},
   "outputs": [],
   "source": [
    "def sum_of_n(n):\n",
    "    total = 0\n",
    "    for _ in range(n + 1):\n",
    "        total += _\n",
    "    print(total)"
   ]
  },
  {
   "cell_type": "code",
   "execution_count": 12,
   "metadata": {},
   "outputs": [
    {
     "data": {
      "text/plain": [
       "(500000500000, 0.2751791477203369)"
      ]
     },
     "execution_count": 12,
     "metadata": {},
     "output_type": "execute_result"
    }
   ],
   "source": [
    "# Adding some profiling code\n",
    "\n",
    "import time\n",
    "\n",
    "def sum_of_n(n):\n",
    "    start = time.time()\n",
    "\n",
    "    total = 0\n",
    "    for _ in range(n + 1):\n",
    "        total += _\n",
    "\n",
    "    end = time.time()\n",
    "\n",
    "    return total, end - start\n",
    "\n",
    "sum_of_n(1000000)"
   ]
  },
  {
   "attachments": {},
   "cell_type": "markdown",
   "metadata": {},
   "source": [
    "Ran with a value of n = 1,000,000, took 0.3s. What happens running five more times? "
   ]
  },
  {
   "cell_type": "code",
   "execution_count": 14,
   "metadata": {},
   "outputs": [
    {
     "name": "stdout",
     "output_type": "stream",
     "text": [
      "sum_of_n(1000000) =    500000500000 (0.4055264seconds)\n",
      "sum_of_n(1000000) =    500000500000 (0.3692298seconds)\n",
      "sum_of_n(1000000) =    500000500000 (0.3092222seconds)\n",
      "sum_of_n(1000000) =    500000500000 (0.2729623seconds)\n",
      "sum_of_n(1000000) =    500000500000 (0.3925700seconds)\n"
     ]
    }
   ],
   "source": [
    "output_template = '{}({}) = {:15d} ({:8.7f}seconds)'\n",
    "for _ in range(5):\n",
    "    print(output_template.format('sum_of_n', 1000000, *sum_of_n(1000000)))"
   ]
  },
  {
   "attachments": {},
   "cell_type": "markdown",
   "metadata": {},
   "source": [
    "With increasingly different values of n.."
   ]
  },
  {
   "cell_type": "code",
   "execution_count": 15,
   "metadata": {},
   "outputs": [
    {
     "name": "stdout",
     "output_type": "stream",
     "text": [
      "sum_of_n(1000000) =    500000500000 (0.5190933seconds)\n",
      "sum_of_n(2000000) =   2000001000000 (0.6036694seconds)\n",
      "sum_of_n(3000000) =   4500001500000 (1.2695451seconds)\n",
      "sum_of_n(4000000) =   8000002000000 (1.9780304seconds)\n",
      "sum_of_n(5000000) =  12500002500000 (1.8286500seconds)\n",
      "sum_of_n(6000000) =  18000003000000 (2.7108419seconds)\n",
      "sum_of_n(7000000) =  24500003500000 (2.0708385seconds)\n",
      "sum_of_n(8000000) =  32000004000000 (2.7549739seconds)\n",
      "sum_of_n(9000000) =  40500004500000 (3.3730571seconds)\n"
     ]
    }
   ],
   "source": [
    "for _ in range(1, 10):\n",
    "    print(output_template.format('sum_of_n', _ * 1000000, *sum_of_n(_ * 1000000)))"
   ]
  },
  {
   "attachments": {},
   "cell_type": "markdown",
   "metadata": {},
   "source": [
    "Taking 17.2s, with bigger values of n shows sum_of_n to not be the most efficient solution.\n",
    "\n",
    "Using a simpler formula, the sum of first n positive integeers, n(n + 1)/2"
   ]
  },
  {
   "cell_type": "code",
   "execution_count": 18,
   "metadata": {},
   "outputs": [
    {
     "data": {
      "text/plain": [
       "(500000500000, 0.0)"
      ]
     },
     "execution_count": 18,
     "metadata": {},
     "output_type": "execute_result"
    }
   ],
   "source": [
    "def arithmetic_sum(n):\n",
    "    start = time.time()\n",
    "    total = n * (n + 1)//2\n",
    "    end = time.time()\n",
    "    return total, end - start\n",
    "\n",
    "arithmetic_sum(1000000)"
   ]
  },
  {
   "attachments": {},
   "cell_type": "markdown",
   "metadata": {},
   "source": [
    "With a range of values from 1 to 10.."
   ]
  },
  {
   "cell_type": "code",
   "execution_count": 19,
   "metadata": {},
   "outputs": [
    {
     "name": "stdout",
     "output_type": "stream",
     "text": [
      "arithmetic_sum(1000000) =    500000500000 (0.0000000seconds)\n",
      "arithmetic_sum(2000000) =   2000001000000 (0.0000000seconds)\n",
      "arithmetic_sum(3000000) =   4500001500000 (0.0000000seconds)\n",
      "arithmetic_sum(4000000) =   8000002000000 (0.0000000seconds)\n",
      "arithmetic_sum(5000000) =  12500002500000 (0.0000000seconds)\n",
      "arithmetic_sum(6000000) =  18000003000000 (0.0000000seconds)\n",
      "arithmetic_sum(7000000) =  24500003500000 (0.0000000seconds)\n",
      "arithmetic_sum(8000000) =  32000004000000 (0.0000000seconds)\n",
      "arithmetic_sum(9000000) =  40500004500000 (0.0000000seconds)\n"
     ]
    }
   ],
   "source": [
    "for _ in range(1, 10):\n",
    "    print(output_template.format('arithmetic_sum', _ * 1000000, *arithmetic_sum(_ * 1000000)))"
   ]
  },
  {
   "attachments": {},
   "cell_type": "markdown",
   "metadata": {},
   "source": [
    "Practice off Bradfield's Practical Algorithm and Data Structures \n",
    "\n",
    "What makes one computer program better than another?\n",
    "\n",
    "Two factors computer scientists model are how much time it takes a program to run and how much space it takes up. This is called time and space efficiency.\n",
    "\n",
    "There's often a need to trade these off against other concerns; like Algo A may be faster than algo B but takes up more memory and less elegant than algo C, where elegance is considered a priority. So, the correct answer is \"it depends\".\n",
    "\n",
    "Another aspect, even with time and space efficiency considered, si the context in which the program runs. There is often a relationship between a program's input(s)  and its behaviour - with time run and space usage.\n",
    "\n",
    "Beyond this, the exact time and space used by a program depends on a host of other factors like;\n",
    "1. Your computer's architecture\n",
    "2. How long it takes to run a program\n",
    "3. How many cores are in use\n",
    "4. How the OS chooses to operate and schedule processes, etc.\n",
    "\n",
    "None of these exactly address an algorithm's efficiency, we want to be able to ask how well a program handles space usage and how fast it runs regardless, and this is the crux of algorithm analysis.\n",
    "\n",
    "Algorithm analysis is a way to compare the space and time efficiency of programs with respective to their possible inputs, but irrespective of other contexts."
   ]
  }
 ],
 "metadata": {
  "kernelspec": {
   "display_name": "Python 3",
   "language": "python",
   "name": "python3"
  },
  "language_info": {
   "codemirror_mode": {
    "name": "ipython",
    "version": 3
   },
   "file_extension": ".py",
   "mimetype": "text/x-python",
   "name": "python",
   "nbconvert_exporter": "python",
   "pygments_lexer": "ipython3",
   "version": "3.7.9"
  },
  "orig_nbformat": 4
 },
 "nbformat": 4,
 "nbformat_minor": 2
}
