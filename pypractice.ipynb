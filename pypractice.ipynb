{
 "cells": [
  {
   "attachments": {},
   "cell_type": "markdown",
   "metadata": {},
   "source": [
    "Dictionaries in Python\n",
    "They are Python's name for associative arrays and maps which it implements using hash tables.\n",
    "\n",
    "What is a dictionary? Best way is to compare it with a list as data structures.\n",
    "\n",
    "1. Values in lists are accessed by means of integers called indices, which indicate where in the list a given value is found.\n",
    "2. Dictionaries access vlaues by means of integers, strings, or other Python objects called keys, which indicate where in the dictionary a given value is found. In other words, both lists and dictionaries provide indexed access to arbitrary values, but the set of items that can be used as a dictionary indices is much larger than, and contains, the set of items that can be used as list indices. Also, the mechanism that dictionaries use to provide indexed access is quite different from that used by lists.\n",
    "3. Both lists and dictionaries can store objects of any type.\n",
    "4. Values stored in a lsit are implicitly ordered by their positions in the list, because the indices that access these values are consecutive integers.\n",
    "Values stored in a dictionary are not implicitly ordered relative to one another because dictionary keys aren't just numbers.\n",
    "\n",
    "Note that if you’re using a dictionary but also care about the order of the items (the order in which they were added, that is), you can use an ordered\n",
    "dictionary, which is a dictionary subclass that can be imported from the collections module. You can also define an order on the items in a dictionary by using\n",
    "another data structure (often a list) to store such an ordering explicitly; this won’t change the fact that basic dictionaries have no implicit (built-in) ordering."
   ]
  },
  {
   "cell_type": "code",
   "execution_count": 2,
   "metadata": {},
   "outputs": [],
   "source": [
    "x = {}      # a dictionary\n",
    "y = []      # a list"
   ]
  },
  {
   "attachments": {},
   "cell_type": "markdown",
   "metadata": {},
   "source": [
    "After you create a dictionary, you may store values in it like it's a list."
   ]
  },
  {
   "cell_type": "code",
   "execution_count": 100,
   "metadata": {},
   "outputs": [],
   "source": [
    "x[0] = 'Hello'\n",
    "x[1] = 'Goodbye'"
   ]
  },
  {
   "attachments": {},
   "cell_type": "markdown",
   "metadata": {},
   "source": [
    "New positions in dictionaries are created as necessary.\n",
    "\n",
    "Having stored values in the dictionary, you can access and use them."
   ]
  },
  {
   "cell_type": "code",
   "execution_count": 101,
   "metadata": {},
   "outputs": [
    {
     "name": "stdout",
     "output_type": "stream",
     "text": [
      "Hello\n"
     ]
    },
    {
     "data": {
      "text/plain": [
       "'Goodbye, Friend.'"
      ]
     },
     "execution_count": 101,
     "metadata": {},
     "output_type": "execute_result"
    }
   ],
   "source": [
    "print(x[0])\n",
    "x[1] + ', Friend.'"
   ]
  },
  {
   "attachments": {},
   "cell_type": "markdown",
   "metadata": {},
   "source": [
    "These make a dictionary look like a list generally but the big difference, store and use some values under keys that aren't integers."
   ]
  },
  {
   "cell_type": "code",
   "execution_count": 102,
   "metadata": {},
   "outputs": [
    {
     "data": {
      "text/plain": [
       "6.284"
      ]
     },
     "execution_count": 102,
     "metadata": {},
     "output_type": "execute_result"
    }
   ],
   "source": [
    "x['two'] = 2\n",
    "x['pi'] = 3.142\n",
    "x['two'] * x['pi']"
   ]
  },
  {
   "attachments": {},
   "cell_type": "markdown",
   "metadata": {},
   "source": [
    "Whereas list indices must be integers, dictionary keys are much less restricted; they may be numbers, strings, or one of a wide range of other Python objects.\n",
    "\n",
    "This makes dictionaries better for the jobs that lists can't do.\n",
    "\n",
    "For instance, It makes more sense to index a telephone directory with a dictionaey because a person's phone number can be mapped to their names and not just ordered numbers.\n",
    "\n",
    "A dictionary is a way of mapping from one set of arbitrary objects to an associated but equally arbitrary set of objects. Actual dictionaries, thesauri, or translation books are good analogies in the real world."
   ]
  },
  {
   "cell_type": "code",
   "execution_count": 67,
   "metadata": {},
   "outputs": [
    {
     "name": "stdout",
     "output_type": "stream",
     "text": [
      "blue is bleu\n"
     ]
    }
   ],
   "source": [
    "# An English-to-French color translator\n",
    "eng_to_fr = {}\n",
    "eng_to_fr['red'] = 'rogue'; eng_to_fr['blue'] = 'bleu'; eng_to_fr['green'] = 'vert'\n",
    "print('blue is', eng_to_fr['blue'])"
   ]
  },
  {
   "cell_type": "code",
   "execution_count": 76,
   "metadata": {},
   "outputs": [
    {
     "name": "stdout",
     "output_type": "stream",
     "text": [
      "Names and ages:  {'Dirk': 20}\n",
      "Names and ages:  {'Dirk': 20, 'Faye': 21}\n",
      "Names and ages:  {'Dirk': 20, 'Faye': 21, 'Sig': 22}\n",
      "Faye is 21\n"
     ]
    }
   ],
   "source": [
    "# Create a dictionary\n",
    "\n",
    "def name_age_prompt():\n",
    "    name_age_dict = {}\n",
    "    for _ in range(3):\n",
    "        name = input('Enter a name: ')\n",
    "        age = int(input('Age: '))\n",
    "        name_age_dict[name] = age\n",
    "        print('Names and ages: ', name_age_dict)\n",
    "    prompt = input('Enter the name: ')\n",
    "    if prompt in name_age_dict:\n",
    "        print(prompt, 'is', name_age_dict[prompt])\n",
    "    else:\n",
    "        print('Enter a name stored')\n",
    "\n",
    "name_age_prompt()\n"
   ]
  },
  {
   "attachments": {},
   "cell_type": "markdown",
   "metadata": {},
   "source": [
    "Besides basic element assignment and access, dictionaries support several operations. You can define a dictionary explicitly as a series of key-value pairs seperated by commas:"
   ]
  },
  {
   "cell_type": "code",
   "execution_count": 68,
   "metadata": {},
   "outputs": [
    {
     "name": "stdout",
     "output_type": "stream",
     "text": [
      "{'red': 'rogue', 'blue': 'bleu', 'green': 'vert'}\n"
     ]
    },
    {
     "data": {
      "text/plain": [
       "3"
      ]
     },
     "execution_count": 68,
     "metadata": {},
     "output_type": "execute_result"
    }
   ],
   "source": [
    "print(eng_to_fr)\n",
    "len(eng_to_fr)"
   ]
  },
  {
   "attachments": {},
   "cell_type": "markdown",
   "metadata": {},
   "source": [
    "You can obtain all the keys in a dictionary with the key method. Often used to iterate over the contents of a dictionary."
   ]
  },
  {
   "cell_type": "code",
   "execution_count": 69,
   "metadata": {},
   "outputs": [
    {
     "data": {
      "text/plain": [
       "['red', 'blue', 'green']"
      ]
     },
     "execution_count": 69,
     "metadata": {},
     "output_type": "execute_result"
    }
   ],
   "source": [
    "list(eng_to_fr.keys())"
   ]
  },
  {
   "attachments": {},
   "cell_type": "markdown",
   "metadata": {},
   "source": [
    "Obtain values in a dictionary with the values method."
   ]
  },
  {
   "cell_type": "code",
   "execution_count": 70,
   "metadata": {},
   "outputs": [
    {
     "data": {
      "text/plain": [
       "['rogue', 'bleu', 'vert']"
      ]
     },
     "execution_count": 70,
     "metadata": {},
     "output_type": "execute_result"
    }
   ],
   "source": [
    "list(eng_to_fr.values())"
   ]
  },
  {
   "attachments": {},
   "cell_type": "markdown",
   "metadata": {},
   "source": [
    "You can use the items method to return all keys and their associated values as a sequence of tuples.\n",
    "\n",
    "Like keys, this method is often used with a for loop to iterate over a dictionary."
   ]
  },
  {
   "cell_type": "code",
   "execution_count": 71,
   "metadata": {},
   "outputs": [
    {
     "data": {
      "text/plain": [
       "[('red', 'rogue'), ('blue', 'bleu'), ('green', 'vert')]"
      ]
     },
     "execution_count": 71,
     "metadata": {},
     "output_type": "execute_result"
    }
   ],
   "source": [
    "list(eng_to_fr.items())"
   ]
  },
  {
   "attachments": {},
   "cell_type": "markdown",
   "metadata": {},
   "source": [
    "THe del statement can be used to remove an entry (key-value pair) from a dictionary:"
   ]
  },
  {
   "cell_type": "code",
   "execution_count": 72,
   "metadata": {},
   "outputs": [
    {
     "data": {
      "text/plain": [
       "[('red', 'rogue'), ('green', 'vert')]"
      ]
     },
     "execution_count": 72,
     "metadata": {},
     "output_type": "execute_result"
    }
   ],
   "source": [
    "list(eng_to_fr.items())\n",
    "del eng_to_fr['blue']\n",
    "list(eng_to_fr.items())"
   ]
  },
  {
   "attachments": {},
   "cell_type": "markdown",
   "metadata": {},
   "source": [
    "Dictionary view objects.\n",
    "The keys, values, and items methods return not lists, but views that behave like sequences but are dynamically updated whenever the dictionary changes. That's why you need to use the list function to make them appear as a list, otherwise, they behave like sequences, allowing code to iterate over them in a for loop, using the in keyword to checck membership in them.\n",
    "\n",
    "The view returned by keys (and in some case the view returned by items) also behaves like a set, with union, difference, and intersection operations."
   ]
  },
  {
   "attachments": {},
   "cell_type": "markdown",
   "metadata": {},
   "source": [
    "Trying to access a key that isn't in a dictionary returns an error, handle by checking with the in keyword which returns True or False:"
   ]
  },
  {
   "cell_type": "code",
   "execution_count": 79,
   "metadata": {},
   "outputs": [
    {
     "data": {
      "text/plain": [
       "False"
      ]
     },
     "execution_count": 79,
     "metadata": {},
     "output_type": "execute_result"
    }
   ],
   "source": [
    "'blue' in eng_to_fr     # true\n",
    "'orange' in eng_to_fr   # false"
   ]
  },
  {
   "attachments": {},
   "cell_type": "markdown",
   "metadata": {},
   "source": [
    "Alternatively, you can use the get function.\n",
    "This returns the value associated with that key, but returns the second argument otherwise."
   ]
  },
  {
   "cell_type": "code",
   "execution_count": 91,
   "metadata": {},
   "outputs": [
    {
     "name": "stdout",
     "output_type": "stream",
     "text": [
      "vert\n"
     ]
    }
   ],
   "source": [
    "print(eng_to_fr.get('green', 'No translation'))"
   ]
  },
  {
   "cell_type": "code",
   "execution_count": 92,
   "metadata": {},
   "outputs": [
    {
     "name": "stdout",
     "output_type": "stream",
     "text": [
      "Deleted\n"
     ]
    }
   ],
   "source": [
    "print(eng_to_fr.get('blue'))        # returns None if no second argument is provided"
   ]
  },
  {
   "attachments": {},
   "cell_type": "markdown",
   "metadata": {},
   "source": [
    "Similarly, if you want to get a key's value and make sure that it's set to a default in the dictionary:"
   ]
  },
  {
   "cell_type": "code",
   "execution_count": 94,
   "metadata": {},
   "outputs": [
    {
     "name": "stdout",
     "output_type": "stream",
     "text": [
      "No translation\n"
     ]
    }
   ],
   "source": [
    "print(eng_to_fr.setdefault('indigo', 'No translation'))"
   ]
  },
  {
   "cell_type": "code",
   "execution_count": 93,
   "metadata": {},
   "outputs": [
    {
     "name": "stdout",
     "output_type": "stream",
     "text": [
      "Deleted\n"
     ]
    }
   ],
   "source": [
    "print(eng_to_fr.setdefault('blue', 'Deleted'))"
   ]
  },
  {
   "attachments": {},
   "cell_type": "markdown",
   "metadata": {},
   "source": [
    "The difference between the get and setdefault is that after the setdefault call, there's now a key in the dictionary, 'indigo' with the value 'No translation'."
   ]
  },
  {
   "cell_type": "code",
   "execution_count": 95,
   "metadata": {},
   "outputs": [
    {
     "name": "stdout",
     "output_type": "stream",
     "text": [
      "dict_items([('red', 'rogue'), ('green', 'vert'), ('indigo', 'No translation'), ('blue', 'Deleted')])\n"
     ]
    }
   ],
   "source": [
    "print(eng_to_fr.items())"
   ]
  },
  {
   "attachments": {},
   "cell_type": "markdown",
   "metadata": {},
   "source": [
    "You can obtain a copy of a dictionary using the copy method:"
   ]
  },
  {
   "cell_type": "code",
   "execution_count": 104,
   "metadata": {},
   "outputs": [
    {
     "name": "stdout",
     "output_type": "stream",
     "text": [
      "{0: 'Hello', 1: 'Goodbye', 'two': 2, 'pi': 3.142}\n"
     ]
    }
   ],
   "source": [
    "z = x.copy()        # a shallow copy\n",
    "print(z)"
   ]
  },
  {
   "cell_type": "code",
   "execution_count": null,
   "metadata": {},
   "outputs": [],
   "source": [
    "a = x.copy.deepcopy()       # a deep copy\n",
    "print(a)"
   ]
  },
  {
   "attachments": {},
   "cell_type": "markdown",
   "metadata": {},
   "source": [
    "The update method updates a first dictionary with all the entries of a second dictionary. For keys that are common to both dictionaries, the values from the second override the first."
   ]
  },
  {
   "cell_type": "code",
   "execution_count": 126,
   "metadata": {},
   "outputs": [
    {
     "name": "stdout",
     "output_type": "stream",
     "text": [
      "{'English': 'Health', 'French': 'Santé', 'Japanese': '健康', 'Igbo': 'Ahụike', 'Yoruba': 'Ìlera', 'Hausa': 'Ƙoshin lafiya'}\n"
     ]
    }
   ],
   "source": [
    "universal = {'English': 'Health', 'French': 'Santé', 'Japanese': '健康'}\n",
    "local = {'Igbo': 'Ahụike', 'Yoruba': 'Ìlera', 'Hausa': 'Ƙoshin lafiya'}\n",
    "universal.update(local)\n",
    "print(universal)"
   ]
  },
  {
   "cell_type": "code",
   "execution_count": 14,
   "metadata": {},
   "outputs": [
    {
     "name": "stdout",
     "output_type": "stream",
     "text": [
      "Counter({'b': 1, 'l': 1, 'u': 1, 'n': 1, 't': 1})\n",
      "Counter({'two': 2, 'one': 1})\n",
      "Counter({'b': 2, 'a': 1})\n"
     ]
    }
   ],
   "source": [
    "from collections import Counter\n",
    "\n",
    "c = Counter(\"blunt\")\n",
    "new_dict = {\"one\": 1, \"two\": 2}\n",
    "d = Counter(new_dict)\n",
    "e = Counter(a=1, b=2)\n",
    "print(c)\n",
    "print(d)\n",
    "print(e)"
   ]
  },
  {
   "cell_type": "code",
   "execution_count": 1,
   "metadata": {},
   "outputs": [
    {
     "data": {
      "image/png": "[encoded data removed]",
      "text/plain": [
       "<Figure size 640x480 with 1 Axes>"
      ]
     },
     "metadata": {},
     "output_type": "display_data"
    }
   ],
   "source": [
    "import numpy as np\n",
    "import pandas as pd\n",
    "import matplotlib.pyplot as plt\n",
    "\n",
    "x = [21, 22, 23, 4, 5, 6, 77, 8, 9, 10, 31, 32, 33, 34, 35, 36, 37, 18, 49, 50, 100]\n",
    "num_bins = 5\n",
    "plt.hist(x, num_bins)\n",
    "plt.show()\n",
    "\n"
   ]
  }
 ],
 "metadata": {
  "kernelspec": {
   "display_name": "Python 3",
   "language": "python",
   "name": "python3"
  },
  "language_info": {
   "codemirror_mode": {
    "name": "ipython",
    "version": 3
   },
   "file_extension": ".py",
   "mimetype": "text/x-python",
   "name": "python",
   "nbconvert_exporter": "python",
   "pygments_lexer": "ipython3",
   "version": "3.7.9"
  },
  "orig_nbformat": 4
 },
 "nbformat": 4,
 "nbformat_minor": 2
}
