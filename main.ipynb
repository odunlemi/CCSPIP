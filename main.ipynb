{
 "cells": [
  {
   "cell_type": "code",
   "execution_count": 1,
   "metadata": {},
   "outputs": [],
   "source": [
    "def sum_of_n(n):\n",
    "    total = 0\n",
    "    for _ in range(n + 1):\n",
    "        total += _\n",
    "    print(total)"
   ]
  },
  {
   "cell_type": "code",
   "execution_count": 2,
   "metadata": {},
   "outputs": [],
   "source": [
    "# Adding some profiling code\n",
    "\n",
    "import time\n",
    "\n",
    "def sum_of_n(n):\n",
    "    start = time.time()\n",
    "\n",
    "    total = 0\n",
    "    for _ in range(n + 1):\n",
    "        total += _\n",
    "\n",
    "    end = time.time()\n",
    "\n",
    "    return total, end - start"
   ]
  },
  {
   "attachments": {},
   "cell_type": "markdown",
   "metadata": {},
   "source": [
    "Practice off Bradfield's Practical Algorithm and Data Structures \n",
    "\n",
    "What makes one computer program better than another?\n",
    "\n",
    "Two factors computer scientists model are how much time it takes a program to run and how much space it takes up. This is called time and space efficiency.\n",
    "\n",
    "There's often a need to trade these off against other concerns; like Algo A may be faster than algo B but takes up more memory and less elegant than algo C, where elegance is considered a priority. So, the correct answer is \"it depends\".\n",
    "\n",
    "Another aspect, even with time and space efficiency considered, si the context in which the program runs. There is often a relationship between a program's input(s)  and its behaviour - with time run and space usage.\n",
    "\n",
    "Beyond this, the exact time and space used by a program depends on a host of other factors like;\n",
    "1. Your computer's architecture\n",
    "2. How long it takes to run a program\n",
    "3. How many cores are in use\n",
    "4. How the OS chooses to operate and schedule processes, etc.\n",
    "\n",
    "None of these exactly address an algorithm's efficiency, we want to be able to ask how well a program handles space usage and how fast it runs regardless, and this is the crux of algorithm analysis.\n",
    "\n",
    "Algorithm analysis is a way to compare the space and time efficiency of programs with respective to their possible inputs, but irrespective of other contexts."
   ]
  }
 ],
 "metadata": {
  "kernelspec": {
   "display_name": "Python 3",
   "language": "python",
   "name": "python3"
  },
  "language_info": {
   "codemirror_mode": {
    "name": "ipython",
    "version": 3
   },
   "file_extension": ".py",
   "mimetype": "text/x-python",
   "name": "python",
   "nbconvert_exporter": "python",
   "pygments_lexer": "ipython3",
   "version": "3.7.9"
  },
  "orig_nbformat": 4
 },
 "nbformat": 4,
 "nbformat_minor": 2
}
